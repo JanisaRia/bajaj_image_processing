{
 "cells": [
  {
   "cell_type": "code",
   "execution_count": 1,
   "id": "899c05a2",
   "metadata": {},
   "outputs": [
    {
     "name": "stdout",
     "output_type": "stream",
     "text": [
      "Requirement already satisfied: jupyter in c:\\users\\admin\\anaconda3\\lib\\site-packages (1.0.0)\n",
      "Collecting opencv-python\n",
      "  Downloading opencv_python-4.11.0.86-cp37-abi3-win_amd64.whl (39.5 MB)\n",
      "     -------------------------------------- 39.5/39.5 MB 576.9 kB/s eta 0:00:00\n",
      "Collecting pytesseract\n",
      "  Downloading pytesseract-0.3.13-py3-none-any.whl (14 kB)\n",
      "Requirement already satisfied: Pillow in c:\\users\\admin\\anaconda3\\lib\\site-packages (9.4.0)\n",
      "Requirement already satisfied: qtconsole in c:\\users\\admin\\anaconda3\\lib\\site-packages (from jupyter) (5.4.0)\n",
      "Requirement already satisfied: nbconvert in c:\\users\\admin\\anaconda3\\lib\\site-packages (from jupyter) (6.5.4)\n",
      "Requirement already satisfied: jupyter-console in c:\\users\\admin\\anaconda3\\lib\\site-packages (from jupyter) (6.6.2)\n",
      "Requirement already satisfied: ipykernel in c:\\users\\admin\\anaconda3\\lib\\site-packages (from jupyter) (6.19.2)\n",
      "Requirement already satisfied: ipywidgets in c:\\users\\admin\\anaconda3\\lib\\site-packages (from jupyter) (7.6.5)\n",
      "Requirement already satisfied: notebook in c:\\users\\admin\\anaconda3\\lib\\site-packages (from jupyter) (6.5.2)\n",
      "Requirement already satisfied: numpy>=1.17.3 in c:\\users\\admin\\anaconda3\\lib\\site-packages (from opencv-python) (1.23.5)\n",
      "Requirement already satisfied: packaging>=21.3 in c:\\users\\admin\\anaconda3\\lib\\site-packages (from pytesseract) (22.0)\n",
      "Requirement already satisfied: psutil in c:\\users\\admin\\anaconda3\\lib\\site-packages (from ipykernel->jupyter) (5.9.0)\n",
      "Requirement already satisfied: debugpy>=1.0 in c:\\users\\admin\\anaconda3\\lib\\site-packages (from ipykernel->jupyter) (1.5.1)\n",
      "Requirement already satisfied: matplotlib-inline>=0.1 in c:\\users\\admin\\anaconda3\\lib\\site-packages (from ipykernel->jupyter) (0.1.6)\n",
      "Requirement already satisfied: ipython>=7.23.1 in c:\\users\\admin\\anaconda3\\lib\\site-packages (from ipykernel->jupyter) (8.10.0)\n",
      "Requirement already satisfied: traitlets>=5.4.0 in c:\\users\\admin\\anaconda3\\lib\\site-packages (from ipykernel->jupyter) (5.7.1)\n",
      "Requirement already satisfied: jupyter-client>=6.1.12 in c:\\users\\admin\\anaconda3\\lib\\site-packages (from ipykernel->jupyter) (7.3.4)\n",
      "Requirement already satisfied: pyzmq>=17 in c:\\users\\admin\\anaconda3\\lib\\site-packages (from ipykernel->jupyter) (23.2.0)\n",
      "Requirement already satisfied: comm>=0.1.1 in c:\\users\\admin\\anaconda3\\lib\\site-packages (from ipykernel->jupyter) (0.1.2)\n",
      "Requirement already satisfied: tornado>=6.1 in c:\\users\\admin\\anaconda3\\lib\\site-packages (from ipykernel->jupyter) (6.1)\n",
      "Requirement already satisfied: nest-asyncio in c:\\users\\admin\\anaconda3\\lib\\site-packages (from ipykernel->jupyter) (1.5.6)\n",
      "Requirement already satisfied: widgetsnbextension~=3.5.0 in c:\\users\\admin\\anaconda3\\lib\\site-packages (from ipywidgets->jupyter) (3.5.2)\n",
      "Requirement already satisfied: nbformat>=4.2.0 in c:\\users\\admin\\anaconda3\\lib\\site-packages (from ipywidgets->jupyter) (5.7.0)\n",
      "Requirement already satisfied: ipython-genutils~=0.2.0 in c:\\users\\admin\\anaconda3\\lib\\site-packages (from ipywidgets->jupyter) (0.2.0)\n",
      "Requirement already satisfied: jupyterlab-widgets>=1.0.0 in c:\\users\\admin\\anaconda3\\lib\\site-packages (from ipywidgets->jupyter) (1.0.0)\n",
      "Requirement already satisfied: pygments in c:\\users\\admin\\anaconda3\\lib\\site-packages (from jupyter-console->jupyter) (2.11.2)\n",
      "Requirement already satisfied: prompt-toolkit>=3.0.30 in c:\\users\\admin\\anaconda3\\lib\\site-packages (from jupyter-console->jupyter) (3.0.36)\n",
      "Requirement already satisfied: jupyter-core!=5.0.*,>=4.12 in c:\\users\\admin\\anaconda3\\lib\\site-packages (from jupyter-console->jupyter) (5.2.0)\n",
      "Requirement already satisfied: bleach in c:\\users\\admin\\anaconda3\\lib\\site-packages (from nbconvert->jupyter) (4.1.0)\n",
      "Requirement already satisfied: jupyterlab-pygments in c:\\users\\admin\\anaconda3\\lib\\site-packages (from nbconvert->jupyter) (0.1.2)\n",
      "Requirement already satisfied: MarkupSafe>=2.0 in c:\\users\\admin\\anaconda3\\lib\\site-packages (from nbconvert->jupyter) (2.1.1)\n",
      "Requirement already satisfied: nbclient>=0.5.0 in c:\\users\\admin\\anaconda3\\lib\\site-packages (from nbconvert->jupyter) (0.5.13)\n",
      "Requirement already satisfied: tinycss2 in c:\\users\\admin\\anaconda3\\lib\\site-packages (from nbconvert->jupyter) (1.2.1)\n",
      "Requirement already satisfied: mistune<2,>=0.8.1 in c:\\users\\admin\\anaconda3\\lib\\site-packages (from nbconvert->jupyter) (0.8.4)\n",
      "Requirement already satisfied: beautifulsoup4 in c:\\users\\admin\\anaconda3\\lib\\site-packages (from nbconvert->jupyter) (4.11.1)\n",
      "Requirement already satisfied: entrypoints>=0.2.2 in c:\\users\\admin\\anaconda3\\lib\\site-packages (from nbconvert->jupyter) (0.4)\n",
      "Requirement already satisfied: defusedxml in c:\\users\\admin\\anaconda3\\lib\\site-packages (from nbconvert->jupyter) (0.7.1)\n",
      "Requirement already satisfied: pandocfilters>=1.4.1 in c:\\users\\admin\\anaconda3\\lib\\site-packages (from nbconvert->jupyter) (1.5.0)\n",
      "Requirement already satisfied: lxml in c:\\users\\admin\\anaconda3\\lib\\site-packages (from nbconvert->jupyter) (4.9.1)\n",
      "Requirement already satisfied: jinja2>=3.0 in c:\\users\\admin\\anaconda3\\lib\\site-packages (from nbconvert->jupyter) (3.1.2)\n",
      "Requirement already satisfied: Send2Trash>=1.8.0 in c:\\users\\admin\\anaconda3\\lib\\site-packages (from notebook->jupyter) (1.8.0)\n",
      "Requirement already satisfied: nbclassic>=0.4.7 in c:\\users\\admin\\anaconda3\\lib\\site-packages (from notebook->jupyter) (0.5.2)\n",
      "Requirement already satisfied: terminado>=0.8.3 in c:\\users\\admin\\anaconda3\\lib\\site-packages (from notebook->jupyter) (0.17.1)\n",
      "Requirement already satisfied: argon2-cffi in c:\\users\\admin\\anaconda3\\lib\\site-packages (from notebook->jupyter) (21.3.0)\n",
      "Requirement already satisfied: prometheus-client in c:\\users\\admin\\anaconda3\\lib\\site-packages (from notebook->jupyter) (0.14.1)\n",
      "Requirement already satisfied: qtpy>=2.0.1 in c:\\users\\admin\\anaconda3\\lib\\site-packages (from qtconsole->jupyter) (2.2.0)\n",
      "Requirement already satisfied: backcall in c:\\users\\admin\\anaconda3\\lib\\site-packages (from ipython>=7.23.1->ipykernel->jupyter) (0.2.0)\n",
      "Requirement already satisfied: pickleshare in c:\\users\\admin\\anaconda3\\lib\\site-packages (from ipython>=7.23.1->ipykernel->jupyter) (0.7.5)\n",
      "Requirement already satisfied: colorama in c:\\users\\admin\\anaconda3\\lib\\site-packages (from ipython>=7.23.1->ipykernel->jupyter) (0.4.6)\n",
      "Requirement already satisfied: stack-data in c:\\users\\admin\\anaconda3\\lib\\site-packages (from ipython>=7.23.1->ipykernel->jupyter) (0.2.0)\n",
      "Requirement already satisfied: decorator in c:\\users\\admin\\anaconda3\\lib\\site-packages (from ipython>=7.23.1->ipykernel->jupyter) (5.1.1)\n",
      "Requirement already satisfied: jedi>=0.16 in c:\\users\\admin\\anaconda3\\lib\\site-packages (from ipython>=7.23.1->ipykernel->jupyter) (0.18.1)\n",
      "Requirement already satisfied: python-dateutil>=2.8.2 in c:\\users\\admin\\anaconda3\\lib\\site-packages (from jupyter-client>=6.1.12->ipykernel->jupyter) (2.8.2)\n",
      "Requirement already satisfied: pywin32>=1.0 in c:\\users\\admin\\anaconda3\\lib\\site-packages (from jupyter-core!=5.0.*,>=4.12->jupyter-console->jupyter) (305.1)\n",
      "Requirement already satisfied: platformdirs>=2.5 in c:\\users\\admin\\anaconda3\\lib\\site-packages (from jupyter-core!=5.0.*,>=4.12->jupyter-console->jupyter) (2.5.2)\n",
      "Requirement already satisfied: notebook-shim>=0.1.0 in c:\\users\\admin\\anaconda3\\lib\\site-packages (from nbclassic>=0.4.7->notebook->jupyter) (0.2.2)\n",
      "Requirement already satisfied: jupyter-server>=1.8 in c:\\users\\admin\\anaconda3\\lib\\site-packages (from nbclassic>=0.4.7->notebook->jupyter) (1.23.4)\n",
      "Requirement already satisfied: fastjsonschema in c:\\users\\admin\\anaconda3\\lib\\site-packages (from nbformat>=4.2.0->ipywidgets->jupyter) (2.16.2)\n",
      "Requirement already satisfied: jsonschema>=2.6 in c:\\users\\admin\\anaconda3\\lib\\site-packages (from nbformat>=4.2.0->ipywidgets->jupyter) (4.17.3)\n",
      "Requirement already satisfied: wcwidth in c:\\users\\admin\\anaconda3\\lib\\site-packages (from prompt-toolkit>=3.0.30->jupyter-console->jupyter) (0.2.5)\n",
      "Requirement already satisfied: pywinpty>=1.1.0 in c:\\users\\admin\\anaconda3\\lib\\site-packages (from terminado>=0.8.3->notebook->jupyter) (2.0.10)\n",
      "Requirement already satisfied: argon2-cffi-bindings in c:\\users\\admin\\anaconda3\\lib\\site-packages (from argon2-cffi->notebook->jupyter) (21.2.0)\n",
      "Requirement already satisfied: soupsieve>1.2 in c:\\users\\admin\\anaconda3\\lib\\site-packages (from beautifulsoup4->nbconvert->jupyter) (2.3.2.post1)\n",
      "Requirement already satisfied: webencodings in c:\\users\\admin\\anaconda3\\lib\\site-packages (from bleach->nbconvert->jupyter) (0.5.1)\n",
      "Requirement already satisfied: six>=1.9.0 in c:\\users\\admin\\anaconda3\\lib\\site-packages (from bleach->nbconvert->jupyter) (1.16.0)\n",
      "Requirement already satisfied: parso<0.9.0,>=0.8.0 in c:\\users\\admin\\anaconda3\\lib\\site-packages (from jedi>=0.16->ipython>=7.23.1->ipykernel->jupyter) (0.8.3)\n",
      "Requirement already satisfied: pyrsistent!=0.17.0,!=0.17.1,!=0.17.2,>=0.14.0 in c:\\users\\admin\\anaconda3\\lib\\site-packages (from jsonschema>=2.6->nbformat>=4.2.0->ipywidgets->jupyter) (0.18.0)\n",
      "Requirement already satisfied: attrs>=17.4.0 in c:\\users\\admin\\anaconda3\\lib\\site-packages (from jsonschema>=2.6->nbformat>=4.2.0->ipywidgets->jupyter) (22.1.0)\n",
      "Requirement already satisfied: websocket-client in c:\\users\\admin\\anaconda3\\lib\\site-packages (from jupyter-server>=1.8->nbclassic>=0.4.7->notebook->jupyter) (0.58.0)\n",
      "Requirement already satisfied: anyio<4,>=3.1.0 in c:\\users\\admin\\anaconda3\\lib\\site-packages (from jupyter-server>=1.8->nbclassic>=0.4.7->notebook->jupyter) (3.5.0)\n",
      "Requirement already satisfied: cffi>=1.0.1 in c:\\users\\admin\\anaconda3\\lib\\site-packages (from argon2-cffi-bindings->argon2-cffi->notebook->jupyter) (1.15.1)\n",
      "Requirement already satisfied: asttokens in c:\\users\\admin\\anaconda3\\lib\\site-packages (from stack-data->ipython>=7.23.1->ipykernel->jupyter) (2.0.5)\n",
      "Requirement already satisfied: pure-eval in c:\\users\\admin\\anaconda3\\lib\\site-packages (from stack-data->ipython>=7.23.1->ipykernel->jupyter) (0.2.2)\n",
      "Requirement already satisfied: executing in c:\\users\\admin\\anaconda3\\lib\\site-packages (from stack-data->ipython>=7.23.1->ipykernel->jupyter) (0.8.3)\n",
      "Requirement already satisfied: sniffio>=1.1 in c:\\users\\admin\\anaconda3\\lib\\site-packages (from anyio<4,>=3.1.0->jupyter-server>=1.8->nbclassic>=0.4.7->notebook->jupyter) (1.2.0)\n",
      "Requirement already satisfied: idna>=2.8 in c:\\users\\admin\\anaconda3\\lib\\site-packages (from anyio<4,>=3.1.0->jupyter-server>=1.8->nbclassic>=0.4.7->notebook->jupyter) (3.4)\n",
      "Requirement already satisfied: pycparser in c:\\users\\admin\\anaconda3\\lib\\site-packages (from cffi>=1.0.1->argon2-cffi-bindings->argon2-cffi->notebook->jupyter) (2.21)\n",
      "Installing collected packages: pytesseract, opencv-python\n",
      "Successfully installed opencv-python-4.11.0.86 pytesseract-0.3.13\n"
     ]
    }
   ],
   "source": [
    "!pip install jupyter opencv-python pytesseract Pillow"
   ]
  },
  {
   "cell_type": "code",
   "execution_count": 36,
   "id": "ad61a348",
   "metadata": {},
   "outputs": [
    {
     "name": "stdout",
     "output_type": "stream",
     "text": [
      "Collecting easyocr\n",
      "  Using cached easyocr-1.7.2-py3-none-any.whl (2.9 MB)\n",
      "Requirement already satisfied: scikit-image in c:\\users\\admin\\anaconda3\\lib\\site-packages (from easyocr) (0.19.3)\n",
      "Collecting opencv-python-headless\n",
      "  Using cached opencv_python_headless-4.11.0.86-cp37-abi3-win_amd64.whl (39.4 MB)\n",
      "Requirement already satisfied: pyclipper in c:\\users\\admin\\anaconda3\\lib\\site-packages (from easyocr) (1.3.0.post6)\n",
      "Requirement already satisfied: numpy in c:\\users\\admin\\anaconda3\\lib\\site-packages (from easyocr) (1.23.5)\n",
      "Requirement already satisfied: python-bidi in c:\\users\\admin\\anaconda3\\lib\\site-packages (from easyocr) (0.6.6)\n",
      "Requirement already satisfied: PyYAML in c:\\users\\admin\\anaconda3\\lib\\site-packages (from easyocr) (6.0)\n",
      "Collecting torchvision>=0.5\n",
      "  Using cached torchvision-0.22.0-cp310-cp310-win_amd64.whl (1.7 MB)\n",
      "Requirement already satisfied: scipy in c:\\users\\admin\\anaconda3\\lib\\site-packages (from easyocr) (1.10.0)\n",
      "Requirement already satisfied: Pillow in c:\\users\\admin\\anaconda3\\lib\\site-packages (from easyocr) (9.4.0)\n",
      "Requirement already satisfied: torch in c:\\users\\admin\\anaconda3\\lib\\site-packages (from easyocr) (1.12.1)\n",
      "Collecting ninja\n",
      "  Using cached ninja-1.11.1.4-py3-none-win_amd64.whl (296 kB)\n",
      "Requirement already satisfied: Shapely in c:\\users\\admin\\anaconda3\\lib\\site-packages (from easyocr) (2.1.0)\n",
      "Collecting torch\n",
      "  Using cached torch-2.7.0-cp310-cp310-win_amd64.whl (212.5 MB)\n",
      "Requirement already satisfied: typing-extensions>=4.10.0 in c:\\users\\admin\\anaconda3\\lib\\site-packages (from torch->easyocr) (4.13.2)\n",
      "Requirement already satisfied: filelock in c:\\users\\admin\\anaconda3\\lib\\site-packages (from torch->easyocr) (3.9.0)\n",
      "Requirement already satisfied: jinja2 in c:\\users\\admin\\anaconda3\\lib\\site-packages (from torch->easyocr) (3.1.2)\n",
      "Requirement already satisfied: sympy>=1.13.3 in c:\\users\\admin\\anaconda3\\lib\\site-packages (from torch->easyocr) (1.14.0)\n",
      "Requirement already satisfied: networkx in c:\\users\\admin\\anaconda3\\lib\\site-packages (from torch->easyocr) (2.8.4)\n",
      "Requirement already satisfied: fsspec in c:\\users\\admin\\anaconda3\\lib\\site-packages (from torch->easyocr) (2022.11.0)\n",
      "Requirement already satisfied: tifffile>=2019.7.26 in c:\\users\\admin\\anaconda3\\lib\\site-packages (from scikit-image->easyocr) (2021.7.2)\n",
      "Requirement already satisfied: packaging>=20.0 in c:\\users\\admin\\anaconda3\\lib\\site-packages (from scikit-image->easyocr) (22.0)\n",
      "Requirement already satisfied: PyWavelets>=1.1.1 in c:\\users\\admin\\anaconda3\\lib\\site-packages (from scikit-image->easyocr) (1.4.1)\n",
      "Requirement already satisfied: imageio>=2.4.1 in c:\\users\\admin\\anaconda3\\lib\\site-packages (from scikit-image->easyocr) (2.26.0)\n",
      "Requirement already satisfied: mpmath<1.4,>=1.1.0 in c:\\users\\admin\\anaconda3\\lib\\site-packages (from sympy>=1.13.3->torch->easyocr) (1.2.1)\n",
      "Requirement already satisfied: MarkupSafe>=2.0 in c:\\users\\admin\\anaconda3\\lib\\site-packages (from jinja2->torch->easyocr) (2.1.1)\n",
      "Installing collected packages: opencv-python-headless, ninja, torch, torchvision, easyocr\n"
     ]
    },
    {
     "name": "stderr",
     "output_type": "stream",
     "text": [
      "ERROR: Could not install packages due to an OSError: [WinError 5] Access is denied: 'C:\\\\Users\\\\Admin\\\\anaconda3\\\\Lib\\\\site-packages\\\\cv2\\\\cv2.pyd'\n",
      "Consider using the `--user` option or check the permissions.\n",
      "\n"
     ]
    }
   ],
   "source": [
    "!pip install easyocr"
   ]
  },
  {
   "cell_type": "code",
   "execution_count": 24,
   "id": "285ebc5c",
   "metadata": {},
   "outputs": [
    {
     "name": "stdout",
     "output_type": "stream",
     "text": [
      "Error: Tesseract is not installed or not found in your system's PATH.\n",
      "Please make sure Tesseract is installed and its location is correctly specified.\n"
     ]
    }
   ],
   "source": [
    "# import pytesseract\n",
    "\n",
    "# # Replace with the actual path to your tesseract executable\n",
    "# pytesseract.pytesseract.tesseract_cmd = r'C:\\Program Files\\Tesseract-OCR\\tesseract.exe'  # Windows example\n",
    "# # On macOS/Linux, it might be something like:\n",
    "# # pytesseract.pytesseract.tesseract_cmd = r'/usr/local/bin/tesseract'\n",
    "\n",
    "# try:\n",
    "#     # Now you can use pytesseract functions\n",
    "#     text = pytesseract.image_to_string('your_image.png')\n",
    "#     print(text)\n",
    "# except pytesseract.TesseractNotFoundError:\n",
    "#     print(\"Error: Tesseract is not installed or not found in your system's PATH.\")\n",
    "#     print(\"Please make sure Tesseract is installed and its location is correctly specified.\")"
   ]
  },
  {
   "cell_type": "code",
   "execution_count": null,
   "id": "7a7c5ad1",
   "metadata": {},
   "outputs": [],
   "source": [
    "# !tesseract --version\n",
    "# !where tesseract\n"
   ]
  },
  {
   "cell_type": "code",
   "execution_count": 34,
   "id": "124562aa",
   "metadata": {},
   "outputs": [
    {
     "ename": "ModuleNotFoundError",
     "evalue": "No module named 'easyocr'",
     "output_type": "error",
     "traceback": [
      "\u001b[1;31m---------------------------------------------------------------------------\u001b[0m",
      "\u001b[1;31mModuleNotFoundError\u001b[0m                       Traceback (most recent call last)",
      "Cell \u001b[1;32mIn[34], line 10\u001b[0m\n\u001b[0;32m      8\u001b[0m \u001b[38;5;28;01mfrom\u001b[39;00m \u001b[38;5;21;01mtyping\u001b[39;00m \u001b[38;5;28;01mimport\u001b[39;00m Dict, List, Any, Tuple, Optional\n\u001b[0;32m      9\u001b[0m \u001b[38;5;28;01mimport\u001b[39;00m \u001b[38;5;21;01mpandas\u001b[39;00m \u001b[38;5;28;01mas\u001b[39;00m \u001b[38;5;21;01mpd\u001b[39;00m\n\u001b[1;32m---> 10\u001b[0m \u001b[38;5;28;01mimport\u001b[39;00m \u001b[38;5;21;01measyocr\u001b[39;00m\n",
      "\u001b[1;31mModuleNotFoundError\u001b[0m: No module named 'easyocr'"
     ]
    }
   ],
   "source": [
    "import os\n",
    "import cv2\n",
    "import numpy as np\n",
    "import matplotlib.pyplot as plt\n",
    "# import pytesseract\n",
    "import re\n",
    "from PIL import Image\n",
    "from typing import Dict, List, Any, Tuple, Optional\n",
    "import pandas as pd\n",
    "import easyocr\n"
   ]
  },
  {
   "cell_type": "code",
   "execution_count": 11,
   "id": "d84b901e",
   "metadata": {},
   "outputs": [],
   "source": [
    "def preprocess_image(image):\n",
    "    \"\"\"\n",
    "    Preprocess the image to improve OCR accuracy\n",
    "    \"\"\"\n",
    "    if len(image.shape) == 3:\n",
    "        gray = cv2.cvtColor(image, cv2.COLOR_BGR2GRAY)\n",
    "    else:\n",
    "        gray = image.copy()    \n",
    "    adaptive_thresh = cv2.adaptiveThreshold(gray, 255, cv2.ADAPTIVE_THRESH_GAUSSIAN_C, cv2.THRESH_BINARY, 11, 2)\n",
    "    denoised = cv2.fastNlMeansDenoising(adaptive_thresh, h=10)\n",
    "    \n",
    "    return denoised"
   ]
  },
  {
   "cell_type": "code",
   "execution_count": 9,
   "id": "0ba54f09",
   "metadata": {},
   "outputs": [],
   "source": [
    "def display_image(image, title='Image'):\n",
    "    plt.figure(figsize=(10, 8))\n",
    "    if len(image.shape) == 3:\n",
    "        plt.imshow(cv2.cvtColor(image, cv2.COLOR_BGR2RGB))\n",
    "    else:\n",
    "        plt.imshow(image, cmap='gray')\n",
    "    plt.title(title)\n",
    "    plt.axis('off')\n",
    "    plt.show()"
   ]
  },
  {
   "cell_type": "markdown",
   "id": "dce7a59d",
   "metadata": {},
   "source": [
    "<!-- def extract_text_from_image(image_path):\n",
    "    \"\"\"\n",
    "    Extract text from an image file\n",
    "    \"\"\"\n",
    "    # Read image\n",
    "    img = cv2.imread(image_path)\n",
    "    if img is None:\n",
    "        raise ValueError(f\"Could not read image at {image_path}\")\n",
    "    \n",
    "    # Preprocess\n",
    "    processed_img = preprocess_image(img)\n",
    "    \n",
    "    # Display original and processed images\n",
    "    display_image(img, 'Original Image')\n",
    "    display_image(processed_img, 'Processed Image')\n",
    "    \n",
    "    # Extract text using Tesseract\n",
    "    text = pytesseract.image_to_string(processed_img)\n",
    "    \n",
    "    # Extract data with layout information\n",
    "    data = pytesseract.image_to_data(processed_img, output_type=pytesseract.Output.DICT)\n",
    "    \n",
    "    return text, data, img, processed_img\n",
    " -->"
   ]
  },
  {
   "cell_type": "code",
   "execution_count": 29,
   "id": "9668556c",
   "metadata": {},
   "outputs": [],
   "source": [
    "def extractText(image_path):\n",
    "    \"\"\"\n",
    "    Extract text from an image file using EasyOCR\n",
    "    \"\"\"\n",
    "    reader = easyocr.Reader(['en'])\n",
    "    img = cv2.imread(image_path)\n",
    "    if img is None:\n",
    "        raise ValueError(f\"Could not read image at {image_path}\")\n",
    "    results = reader.readtext(img)\n",
    "    text = \" \".join([result[1] for result in results])    \n",
    "    return text"
   ]
  },
  {
   "cell_type": "code",
   "execution_count": 30,
   "id": "a506595a",
   "metadata": {},
   "outputs": [],
   "source": [
    "def parse_labTexts(text:str) -> List[Dict[str, Any]]:\n",
    "    print(\"Extractd Text:\")\n",
    "    print(text)\n",
    "    lab_tests = []\n",
    "    patterns = [\n",
    "        r'([A-Z][A-Za-z\\s\\(\\)]+)[\\s:]+(\\d+\\.?\\d*)\\s*([a-zA-Z%/]+)[\\s\\(]+(\\d+\\.?\\d*[-–]\\d+\\.?\\d*)',\n",
    "        r'([A-Z][A-Za-z\\s\\(\\)]+)\\s+(\\d+\\.?\\d*)\\s+([a-zA-Z%/]+)\\s+(\\d+\\.?\\d*[-–]\\d+\\.?\\d*)'\n",
    "    ]\n",
    "    \n",
    "    all_matches = []\n",
    "    for pattern in patterns:\n",
    "        matches = re.findall(pattern, text)\n",
    "        all_matches.extend(matches)\n",
    "    print(f\"Found {len(all_matches)} potential lab test\")\n",
    "    \n",
    "    for match in all_matches:\n",
    "        if len(match) >= 4:\n",
    "            test_name, test_value, test_unit, ref_range = match\n",
    "            test_name = test_name.strip()\n",
    "            test_value = test_values.strip()\n",
    "            test_unit = test_unit.strip()\n",
    "            ref_range = ref_range.strip().replace('-', '-')\n",
    "            out_of_range = is_out_of_range(test_value, ref_range)\n",
    "            \n",
    "            lab_test = {\n",
    "                \"test_name\" : test_name,\n",
    "                \"test_value\" : test_value,\n",
    "                \"bio_reference_range\" : ref_range,\n",
    "                \"test_unit\" : test_unit,\n",
    "                \"lab_test_out_pf_range\" : out_of_range\n",
    "            }\n",
    "            \n",
    "            lab_test.append(lab_test)\n",
    "        unique_tests = []\n",
    "        test_names = set()\n",
    "        \n",
    "        for test in lab_tests:\n",
    "            if test[\"test_name\"] not in test_names:\n",
    "                test_names.add(test[\"test_name\"])\n",
    "                unique_tests.append(test)\n",
    "        return unique_tests\n",
    "              "
   ]
  },
  {
   "cell_type": "code",
   "execution_count": 31,
   "id": "3017e254",
   "metadata": {},
   "outputs": [],
   "source": [
    "def is_out_of_range(value, range_str):\n",
    "    \"\"\"\n",
    "    Check if the test value is outside the reference range\n",
    "    \"\"\"\n",
    "    try:\n",
    "        val = float(value)\n",
    "        \n",
    "        range_parts = range_str.replace('–', '-').split('-')\n",
    "        min_val = float(range_parts[0])\n",
    "        max_val = float(range_parts[1])\n",
    "        \n",
    "        return val < min_val or val > max_val\n",
    "    except (ValueError, IndexError):\n",
    "        \n",
    "        print(f\"Warning: Could not check range for value '{value}' and range '{range_str}'\")\n",
    "        return False\n"
   ]
  },
  {
   "cell_type": "code",
   "execution_count": 32,
   "id": "fbf05b3b",
   "metadata": {},
   "outputs": [],
   "source": [
    "def process_image_and_extract_tests(image_path):\n",
    "    \"\"\"\n",
    "    Process an image and extract lab tests from it\n",
    "    \"\"\"\n",
    "    print(f\"Processing image: {image_path}\")\n",
    "    \n",
    "    text, data, original_img, processed_img = extractText(image_path)    \n",
    "    lab_tests = parse_lab_tests(text)    \n",
    "    result = {\n",
    "        \"is_success\": len(lab_tests) > 0,\n",
    "        \"data\": lab_tests\n",
    "    }\n",
    "    print(\"\\nExtracted Lab Tests:\")\n",
    "    for i, test in enumerate(lab_tests):\n",
    "        print(f\"Test {i+1}:\")\n",
    "        print(f\"  Name: {test['test_name']}\")\n",
    "        print(f\"  Value: {test['test_value']} {test['test_unit']}\")\n",
    "        print(f\"  Reference Range: {test['bio_reference_range']}\")\n",
    "        print(f\"  Out of Range: {test['lab_test_out_of_range']}\")\n",
    "    \n",
    "    return result, original_img, processed_img\n"
   ]
  },
  {
   "cell_type": "code",
   "execution_count": 33,
   "id": "6210c035",
   "metadata": {},
   "outputs": [
    {
     "name": "stdout",
     "output_type": "stream",
     "text": [
      "Processing image: C:\\Users\\Admin\\Downloads\\bajaj_dataScience\\lab_reports_samples\\lbmaske\\AHD-0425-PA-0007561_JITENDRA TRIVEDI DS_28-04-2025_1019-21_AM.pdf_page_9.png\n"
     ]
    },
    {
     "ename": "NameError",
     "evalue": "name 'easyocr' is not defined",
     "output_type": "error",
     "traceback": [
      "\u001b[1;31m---------------------------------------------------------------------------\u001b[0m",
      "\u001b[1;31mNameError\u001b[0m                                 Traceback (most recent call last)",
      "Cell \u001b[1;32mIn[33], line 6\u001b[0m\n\u001b[0;32m      4\u001b[0m \u001b[38;5;28;01mif\u001b[39;00m image_files:\n\u001b[0;32m      5\u001b[0m     sample_image \u001b[38;5;241m=\u001b[39m image_files[\u001b[38;5;241m0\u001b[39m]\n\u001b[1;32m----> 6\u001b[0m     result, original_img, processed_img \u001b[38;5;241m=\u001b[39m \u001b[43mprocess_image_and_extract_tests\u001b[49m\u001b[43m(\u001b[49m\u001b[43msample_image\u001b[49m\u001b[43m)\u001b[49m\n\u001b[0;32m      9\u001b[0m     \u001b[38;5;28;01mimport\u001b[39;00m \u001b[38;5;21;01mjson\u001b[39;00m\n\u001b[0;32m     10\u001b[0m     \u001b[38;5;28mprint\u001b[39m(\u001b[38;5;124m\"\u001b[39m\u001b[38;5;130;01m\\n\u001b[39;00m\u001b[38;5;124mJSON Output:\u001b[39m\u001b[38;5;124m\"\u001b[39m)\n",
      "Cell \u001b[1;32mIn[32], line 7\u001b[0m, in \u001b[0;36mprocess_image_and_extract_tests\u001b[1;34m(image_path)\u001b[0m\n\u001b[0;32m      2\u001b[0m \u001b[38;5;124;03m\"\"\"\u001b[39;00m\n\u001b[0;32m      3\u001b[0m \u001b[38;5;124;03mProcess an image and extract lab tests from it\u001b[39;00m\n\u001b[0;32m      4\u001b[0m \u001b[38;5;124;03m\"\"\"\u001b[39;00m\n\u001b[0;32m      5\u001b[0m \u001b[38;5;28mprint\u001b[39m(\u001b[38;5;124mf\u001b[39m\u001b[38;5;124m\"\u001b[39m\u001b[38;5;124mProcessing image: \u001b[39m\u001b[38;5;132;01m{\u001b[39;00mimage_path\u001b[38;5;132;01m}\u001b[39;00m\u001b[38;5;124m\"\u001b[39m)\n\u001b[1;32m----> 7\u001b[0m text, data, original_img, processed_img \u001b[38;5;241m=\u001b[39m \u001b[43mextractText\u001b[49m\u001b[43m(\u001b[49m\u001b[43mimage_path\u001b[49m\u001b[43m)\u001b[49m    \n\u001b[0;32m      8\u001b[0m lab_tests \u001b[38;5;241m=\u001b[39m parse_lab_tests(text)    \n\u001b[0;32m      9\u001b[0m result \u001b[38;5;241m=\u001b[39m {\n\u001b[0;32m     10\u001b[0m     \u001b[38;5;124m\"\u001b[39m\u001b[38;5;124mis_success\u001b[39m\u001b[38;5;124m\"\u001b[39m: \u001b[38;5;28mlen\u001b[39m(lab_tests) \u001b[38;5;241m>\u001b[39m \u001b[38;5;241m0\u001b[39m,\n\u001b[0;32m     11\u001b[0m     \u001b[38;5;124m\"\u001b[39m\u001b[38;5;124mdata\u001b[39m\u001b[38;5;124m\"\u001b[39m: lab_tests\n\u001b[0;32m     12\u001b[0m }\n",
      "Cell \u001b[1;32mIn[29], line 5\u001b[0m, in \u001b[0;36mextractText\u001b[1;34m(image_path)\u001b[0m\n\u001b[0;32m      1\u001b[0m \u001b[38;5;28;01mdef\u001b[39;00m \u001b[38;5;21mextractText\u001b[39m(image_path):\n\u001b[0;32m      2\u001b[0m     \u001b[38;5;124;03m\"\"\"\u001b[39;00m\n\u001b[0;32m      3\u001b[0m \u001b[38;5;124;03m    Extract text from an image file using EasyOCR\u001b[39;00m\n\u001b[0;32m      4\u001b[0m \u001b[38;5;124;03m    \"\"\"\u001b[39;00m\n\u001b[1;32m----> 5\u001b[0m     reader \u001b[38;5;241m=\u001b[39m \u001b[43measyocr\u001b[49m\u001b[38;5;241m.\u001b[39mReader([\u001b[38;5;124m'\u001b[39m\u001b[38;5;124men\u001b[39m\u001b[38;5;124m'\u001b[39m])\n\u001b[0;32m      6\u001b[0m     img \u001b[38;5;241m=\u001b[39m cv2\u001b[38;5;241m.\u001b[39mimread(image_path)\n\u001b[0;32m      7\u001b[0m     \u001b[38;5;28;01mif\u001b[39;00m img \u001b[38;5;129;01mis\u001b[39;00m \u001b[38;5;28;01mNone\u001b[39;00m:\n",
      "\u001b[1;31mNameError\u001b[0m: name 'easyocr' is not defined"
     ]
    }
   ],
   "source": [
    "image_folder = r'C:\\Users\\Admin\\Downloads\\bajaj_dataScience\\lab_reports_samples\\lbmaske'\n",
    "image_files = [os.path.join(image_folder, f) for f in os.listdir(image_folder) \n",
    "               if f.lower().endswith(('.png', '.jpg', '.jpeg'))]\n",
    "if image_files:\n",
    "    sample_image = image_files[0]\n",
    "    result, original_img, processed_img = process_image_and_extract_tests(sample_image)\n",
    "    \n",
    "    \n",
    "    import json\n",
    "    print(\"\\nJSON Output:\")\n",
    "    print(json.dumps(result, indent=2))\n",
    "\n"
   ]
  },
  {
   "cell_type": "code",
   "execution_count": null,
   "id": "6f24a52a",
   "metadata": {},
   "outputs": [],
   "source": []
  }
 ],
 "metadata": {
  "kernelspec": {
   "display_name": "Python 3 (ipykernel)",
   "language": "python",
   "name": "python3"
  },
  "language_info": {
   "codemirror_mode": {
    "name": "ipython",
    "version": 3
   },
   "file_extension": ".py",
   "mimetype": "text/x-python",
   "name": "python",
   "nbconvert_exporter": "python",
   "pygments_lexer": "ipython3",
   "version": "3.10.9"
  }
 },
 "nbformat": 4,
 "nbformat_minor": 5
}
